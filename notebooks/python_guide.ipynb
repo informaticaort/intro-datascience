{
 "cells": [
  {
   "cell_type": "markdown",
   "id": "c8aa9017",
   "metadata": {},
   "source": [
    "## Variables\n",
    "\n",
    "Las variables no exigen un tipo, entonces para declararlas simplemente son `nombre = valor`. Una variable puede cambiar el tipo de dato que contiene"
   ]
  },
  {
   "cell_type": "code",
   "execution_count": 2,
   "id": "bd726f93",
   "metadata": {},
   "outputs": [
    {
     "data": {
      "text/plain": [
       "3"
      ]
     },
     "execution_count": 2,
     "metadata": {},
     "output_type": "execute_result"
    }
   ],
   "source": [
    "x = 1\n",
    "y = 2\n",
    "z = x + y\n",
    "z"
   ]
  },
  {
   "cell_type": "code",
   "execution_count": 3,
   "id": "3fe89c07",
   "metadata": {},
   "outputs": [
    {
     "data": {
      "text/plain": [
       "'Hello World'"
      ]
     },
     "execution_count": 3,
     "metadata": {},
     "output_type": "execute_result"
    }
   ],
   "source": [
    "a = \"Hello\"\n",
    "b = \"World\"\n",
    "c = a + \" \" + b\n",
    "c"
   ]
  },
  {
   "cell_type": "markdown",
   "id": "51843e98",
   "metadata": {},
   "source": [
    "Esto se debe a que Python es un lenguaje de **tipado dinámico**, es decir, los tipos de datos se determinan al correr el programa y no de antes."
   ]
  },
  {
   "cell_type": "markdown",
   "id": "58ab1e3a",
   "metadata": {},
   "source": [
    "## Tipos\n",
    "\n",
    "En Python todo es un objeto con tipo, sin embargo las variables no exigen un tipo.\n",
    "\n",
    "Se puede checkear el tipo de un valor contenido en una variable usando la función `type()`"
   ]
  },
  {
   "cell_type": "code",
   "execution_count": 4,
   "id": "4651f745",
   "metadata": {},
   "outputs": [
    {
     "name": "stdout",
     "output_type": "stream",
     "text": [
      "<class 'int'>\n",
      "<class 'int'>\n",
      "<class 'str'>\n",
      "<class 'str'>\n"
     ]
    }
   ],
   "source": [
    "print(type(10))\n",
    "print(type(x))\n",
    "print(type(\"Python <3\"))\n",
    "print(type(a))"
   ]
  },
  {
   "cell_type": "markdown",
   "id": "8279a56f",
   "metadata": {},
   "source": [
    "### Type Casting\n",
    "\n",
    "Llamando a la clase de un tipo, se puede \"castear\" un valor de un tipo a otro.\n"
   ]
  },
  {
   "cell_type": "code",
   "execution_count": 7,
   "id": "c549f9b8",
   "metadata": {},
   "outputs": [
    {
     "name": "stdout",
     "output_type": "stream",
     "text": [
      "15\n",
      "63\n",
      "15\n"
     ]
    }
   ],
   "source": [
    "# Cast string as int\n",
    "print(int(\"15\"))\n",
    "\n",
    "# Cast Hexa to int\n",
    "print(int(\"3f\", 16))\n",
    "\n",
    "# Cast float to int\n",
    "print(int(15.56))"
   ]
  },
  {
   "cell_type": "code",
   "execution_count": null,
   "id": "8aaed6ba",
   "metadata": {},
   "outputs": [],
   "source": [
    "# Cast string as float\n",
    "float(\"-11.24e8\")\n",
    "# -11.24e8\n",
    "\n",
    "# Cast int to bool\n",
    "bool(x)\n",
    "# True\n",
    "\n",
    "# Cast int to string\n",
    "str(x)\n",
    "# \"1\"\n",
    "\n",
    "# Cast int as char\n",
    "chr(64)\n",
    "# \"A\"\n",
    "\n",
    "# Cast list of ints to bytes\n",
    "bytes([72,9,64])\n",
    "# b\"H\\x09@\"\n",
    "\n",
    "# Cast string to list\n",
    "list(\"abc\")\n",
    "# ['a', 'b', 'c']\n",
    "\n",
    "# Cast list of tuples as dictionary\n",
    "dict([(3,\"three\"),(1,\"one\")])\n",
    "# {3: 'three', 1: 'one'}\n",
    "\n",
    "# Cast list of strings as set of strings\n",
    "set([\"one\",\"two\"])\n",
    "# {'one', 'two'}"
   ]
  },
  {
   "cell_type": "markdown",
   "id": "234c822e",
   "metadata": {},
   "source": [
    "## Condicionales"
   ]
  },
  {
   "cell_type": "code",
   "execution_count": 18,
   "id": "8b9b5c45",
   "metadata": {},
   "outputs": [
    {
     "name": "stdout",
     "output_type": "stream",
     "text": [
      "x is less than y\n"
     ]
    }
   ],
   "source": [
    "x = 100\n",
    "y = 200\n",
    "if x > y:\n",
    "    print(\"x is greater than y\")\n",
    "elif x < y:\n",
    "    print(\"x is less than y\")\n",
    "else:\n",
    "    print(\"x is equal to y\")"
   ]
  },
  {
   "cell_type": "markdown",
   "id": "52651ce6",
   "metadata": {},
   "source": [
    "## Loops"
   ]
  },
  {
   "cell_type": "code",
   "execution_count": 19,
   "id": "bdd2f075",
   "metadata": {},
   "outputs": [
    {
     "name": "stdout",
     "output_type": "stream",
     "text": [
      "1\n",
      "2\n",
      "3\n",
      "4\n",
      "5\n",
      "6\n",
      "7\n",
      "8\n",
      "9\n",
      "10\n",
      "0\n",
      "1\n",
      "2\n",
      "3\n",
      "4\n",
      "5\n",
      "6\n",
      "7\n",
      "8\n",
      "9\n",
      "1\n",
      "2\n",
      "3\n",
      "4\n",
      "5\n",
      "H\n",
      "e\n",
      "l\n",
      "l\n",
      "o\n",
      " \n",
      "W\n",
      "o\n",
      "r\n",
      "l\n",
      "d\n"
     ]
    }
   ],
   "source": [
    "x = 0\n",
    "while x < 10:\n",
    "    x += 1\n",
    "    print(x)\n",
    "\n",
    "for i in range(10):\n",
    "    print(i)\n",
    "\n",
    "for i in [1,2,3,4,5]:\n",
    "    print(i)\n",
    "\n",
    "for l in \"Hello World\":\n",
    "    print(l)"
   ]
  },
  {
   "cell_type": "markdown",
   "id": "2baf38a7",
   "metadata": {},
   "source": [
    "## Estructuras Básicas"
   ]
  },
  {
   "cell_type": "markdown",
   "id": "849cf539",
   "metadata": {},
   "source": [
    "### Listas\n",
    "\n",
    "Las listas en Python son una estructura de datos que permite guardar muchos elementos en una ́unica variable. Se\n",
    "parecen a los arrays en otros lenguajes, pero con algunas diferencias fundamentales:\n",
    "\n",
    "- Son de longitud variable, es decir, puedo agregar y sacar elementos de una misma lista\n",
    "- Los elementos de una lista pueden ser de distinto tipo de datos, por ejemplo, `[4,8,'Mario',5.8]` es una lista válida.\n",
    "\n",
    "#### Acceso y asignación\n",
    "\n",
    "Para acceder a un elemento de una lista, podemos accederlo mediante su posición o índice. **Las listas en Python están indexadas desde 0, no 1**. Por ejemplo, si tengo la siguiente lista:"
   ]
  },
  {
   "cell_type": "code",
   "execution_count": 8,
   "id": "dcbcc1f5",
   "metadata": {},
   "outputs": [
    {
     "name": "stdout",
     "output_type": "stream",
     "text": [
      "4\n",
      "0.25\n",
      "x\n"
     ]
    }
   ],
   "source": [
    "lista = [4,5,0.25,'x']\n",
    "print(lista[0])\n",
    "print(lista[2])\n",
    "print(lista[3])"
   ]
  },
  {
   "cell_type": "markdown",
   "id": "0bd9b1fb",
   "metadata": {},
   "source": [
    "Puedo no solo acceder, sino también modificar elementos en una lista. Para eso uso operadores de asignación como =, o de modificación como += sobre el elemento deseado:"
   ]
  },
  {
   "cell_type": "code",
   "execution_count": 12,
   "id": "09a29c3f",
   "metadata": {},
   "outputs": [
    {
     "name": "stdout",
     "output_type": "stream",
     "text": [
      "[4, 5, 0.25, 'x']\n"
     ]
    },
    {
     "data": {
      "text/plain": [
       "['ORT', 5, 1, 'xy']"
      ]
     },
     "execution_count": 12,
     "metadata": {},
     "output_type": "execute_result"
    }
   ],
   "source": [
    "lista = [4,5,0.25,'x']\n",
    "print(lista)\n",
    "lista[0] = 'ORT'\n",
    "lista[2] = 1\n",
    "lista[3] += 'y'\n",
    "lista"
   ]
  },
  {
   "cell_type": "markdown",
   "id": "b5b89219",
   "metadata": {},
   "source": [
    "#### Agregar y quitar elementos\n",
    "\n",
    "Para agregar elementos a una lista en python, podemos usar el método `append`. Un método, por ahora, podemos pensarlo simplemente como una función pero con una sintaxis especial. `append` agrega el elemento pasado por parámetero al final de la lista."
   ]
  },
  {
   "cell_type": "code",
   "execution_count": 13,
   "id": "aa9d63ca",
   "metadata": {},
   "outputs": [
    {
     "name": "stdout",
     "output_type": "stream",
     "text": [
      "[4, 5, 'x', 9, 11]\n"
     ]
    }
   ],
   "source": [
    "lista = [4,5,'x',9]\n",
    "lista.append(11)\n",
    "print(lista) #[4,5,'x',9,11]"
   ]
  },
  {
   "cell_type": "markdown",
   "id": "ac7fbac6",
   "metadata": {},
   "source": [
    "#### Longitud"
   ]
  },
  {
   "cell_type": "markdown",
   "id": "f10cb030",
   "metadata": {},
   "source": [
    "lista = [4,5,'x',9]\n",
    "print(len(lista)) #4"
   ]
  },
  {
   "cell_type": "markdown",
   "id": "596a2e99",
   "metadata": {},
   "source": [
    "#### Recorriendo listas\n",
    "\n",
    "Las listas contienen muchos elementos, y en muchos casos la solución a nuestro problema implica recorrerlas. A continuación discutimos algunas formas de hacer esto.\n",
    "\n",
    "##### Mediante índices\n",
    "\n",
    "Los índices de una lista arrancan en 0 y terminan en la longitud - 1. Por eso, `range(len(l))` nos da los índices de la lista guardada en `l`, ya que range por default arranca en 0 y no incluye el valor final (`len(l)`). Usándolo en un `for`:\n"
   ]
  },
  {
   "cell_type": "code",
   "execution_count": 14,
   "id": "8f302c41",
   "metadata": {},
   "outputs": [
    {
     "name": "stdout",
     "output_type": "stream",
     "text": [
      "6\n",
      "x\n",
      "9\n",
      "25\n"
     ]
    }
   ],
   "source": [
    "l = [6,'x',9,25]\n",
    "for indice in range(len(l)):\n",
    "    print(l[indice]) #Obtengo los elementos usando el índice para acceder al valor"
   ]
  },
  {
   "cell_type": "markdown",
   "id": "032ba01b",
   "metadata": {},
   "source": [
    "##### Mediante elementos\n",
    "\n",
    "Otras veces no necesitamos la posición del elemento, y podemos aprovechar la sintaxis del `for` a nuestro favor:\n"
   ]
  },
  {
   "cell_type": "code",
   "execution_count": 15,
   "id": "1c0ea8e8",
   "metadata": {},
   "outputs": [
    {
     "name": "stdout",
     "output_type": "stream",
     "text": [
      "6\n",
      "x\n",
      "9\n",
      "25\n"
     ]
    }
   ],
   "source": [
    "l = [6,'x',9,25]\n",
    "for elemento in l:\n",
    "    print(elemento) #Va a ser cada elemento de la lista de izquierda a derecha (6,'x', etc)\n"
   ]
  },
  {
   "cell_type": "markdown",
   "id": "f711f79d",
   "metadata": {},
   "source": [
    "##### Mediante índices y elementos\n",
    "\n",
    "La forma más elegante, pero a la vez menos intuitiva, de recorrer listas cuando necesito su posición además de su valor, es mediante `enumerate`. Esta función genera un iterable de pares índice, valor dada una lista, y entonces podemos usar la siguiente sintaxis:"
   ]
  },
  {
   "cell_type": "code",
   "execution_count": 16,
   "id": "93e7dd4f",
   "metadata": {},
   "outputs": [
    {
     "name": "stdout",
     "output_type": "stream",
     "text": [
      "0 6\n",
      "1 x\n",
      "2 9\n",
      "3 25\n"
     ]
    }
   ],
   "source": [
    "l = [6,'x',9,25]\n",
    "for indice, elemento in enumerate(l):\n",
    "        print(indice, elemento)"
   ]
  },
  {
   "cell_type": "markdown",
   "id": "9551d163",
   "metadata": {},
   "source": [
    "## Estructuras de datos mas complejas"
   ]
  },
  {
   "cell_type": "markdown",
   "id": "691293e9",
   "metadata": {},
   "source": [
    "### Arrays Numpy\n",
    "\n",
    "Un array de Numpy es una estructura de datos que permite guardar muchos elementos en una ́unica variable."
   ]
  },
  {
   "cell_type": "code",
   "execution_count": 9,
   "id": "9beb320e",
   "metadata": {},
   "outputs": [],
   "source": [
    "import numpy as np #Importa el módulo numpy"
   ]
  },
  {
   "cell_type": "code",
   "execution_count": 24,
   "id": "59f60806",
   "metadata": {},
   "outputs": [
    {
     "data": {
      "text/plain": [
       "array([1, 2, 3, 4, 5])"
      ]
     },
     "execution_count": 24,
     "metadata": {},
     "output_type": "execute_result"
    }
   ],
   "source": [
    "lis = [1, 2, 3, 4, 5]\n",
    "arr = np.asarray(lis) #Convierte una lista en un arreglo\n",
    "arr"
   ]
  },
  {
   "cell_type": "markdown",
   "id": "6dc821b1",
   "metadata": {},
   "source": [
    "Los arrays tienen dimensiones, podemos ver la dimensión de un array con el método `shape`."
   ]
  },
  {
   "cell_type": "code",
   "execution_count": 29,
   "id": "b01c60e1",
   "metadata": {},
   "outputs": [
    {
     "data": {
      "text/plain": [
       "(5,)"
      ]
     },
     "execution_count": 29,
     "metadata": {},
     "output_type": "execute_result"
    }
   ],
   "source": [
    "arr.shape"
   ]
  },
  {
   "cell_type": "markdown",
   "id": "30f80a77",
   "metadata": {},
   "source": [
    "#### Funciones de Numpy\n",
    "\n",
    "Para trabajar con arrays de Numpy, podemos usar las funciones de Numpy. Algunos ejemplos:"
   ]
  },
  {
   "cell_type": "code",
   "execution_count": 27,
   "id": "8dd7a9fe",
   "metadata": {},
   "outputs": [
    {
     "data": {
      "text/plain": [
       "array([0. , 0.5, 1. , 1.5, 2. , 2.5, 3. , 3.5, 4. , 4.5, 5. , 5.5, 6. ,\n",
       "       6.5, 7. , 7.5, 8. , 8.5, 9. , 9.5])"
      ]
     },
     "execution_count": 27,
     "metadata": {},
     "output_type": "execute_result"
    }
   ],
   "source": [
    "# La funcion np.arange crea un arreglo de numpy con valores desde el valor inicial hasta el valor final, con una cantidad de valores especificada\n",
    "t = np.arange(0, 10, 0.5)\n",
    "t"
   ]
  },
  {
   "cell_type": "code",
   "execution_count": 28,
   "id": "0bdc0ad0",
   "metadata": {},
   "outputs": [
    {
     "data": {
      "text/plain": [
       "array([5, 6, 7, 8, 9])"
      ]
     },
     "execution_count": 28,
     "metadata": {},
     "output_type": "execute_result"
    }
   ],
   "source": [
    "a = np.asarray([1,2,3,4,5])\n",
    "b = np.asarray([4,4,4,4,4])\n",
    "np.add(a, b) # Suma de dos arrays"
   ]
  },
  {
   "cell_type": "code",
   "execution_count": 31,
   "id": "022ac155",
   "metadata": {},
   "outputs": [
    {
     "data": {
      "text/plain": [
       "array([11, 12, 13, 14, 15])"
      ]
     },
     "execution_count": 31,
     "metadata": {},
     "output_type": "execute_result"
    }
   ],
   "source": [
    "np.add(a, 10) # Suma un escalar elemento a elemento"
   ]
  },
  {
   "cell_type": "code",
   "execution_count": 32,
   "id": "870d33fa",
   "metadata": {},
   "outputs": [
    {
     "data": {
      "text/plain": [
       "array([ 4,  8, 12, 16, 20])"
      ]
     },
     "execution_count": 32,
     "metadata": {},
     "output_type": "execute_result"
    }
   ],
   "source": [
    "np.multiply(a, b) # Multiplica elemento a elemento"
   ]
  },
  {
   "cell_type": "code",
   "execution_count": 33,
   "id": "69bfcc61",
   "metadata": {},
   "outputs": [
    {
     "data": {
      "text/plain": [
       "array([10, 20, 30, 40, 50])"
      ]
     },
     "execution_count": 33,
     "metadata": {},
     "output_type": "execute_result"
    }
   ],
   "source": [
    "np.multiply(a, 10) # Multiplica por un escalar elemento a elemento"
   ]
  },
  {
   "cell_type": "code",
   "execution_count": 30,
   "id": "84ea6ca8",
   "metadata": {},
   "outputs": [
    {
     "data": {
      "text/plain": [
       "array([[0., 0., 0.],\n",
       "       [0., 0., 0.],\n",
       "       [0., 0., 0.]])"
      ]
     },
     "execution_count": 30,
     "metadata": {},
     "output_type": "execute_result"
    }
   ],
   "source": [
    "# Genera un array de ceros dada una forma\n",
    "\n",
    "tres_por_tres = np.zeros((3, 3))\n",
    "tres_por_tres"
   ]
  },
  {
   "cell_type": "code",
   "execution_count": 35,
   "id": "3108ed52",
   "metadata": {},
   "outputs": [],
   "source": [
    "ej = np.arange(0, 9, 1)"
   ]
  },
  {
   "cell_type": "code",
   "execution_count": 40,
   "id": "ec40adf3",
   "metadata": {},
   "outputs": [
    {
     "data": {
      "text/plain": [
       "array([[0, 1, 2],\n",
       "       [3, 4, 5],\n",
       "       [6, 7, 8]])"
      ]
     },
     "execution_count": 40,
     "metadata": {},
     "output_type": "execute_result"
    }
   ],
   "source": [
    "arr = ej.reshape(3, 3) #Cambia la forma de un arreglo\n",
    "arr"
   ]
  },
  {
   "cell_type": "code",
   "execution_count": 41,
   "id": "5c95f61c",
   "metadata": {},
   "outputs": [
    {
     "data": {
      "text/plain": [
       "array([[0, 3, 6],\n",
       "       [1, 4, 7],\n",
       "       [2, 5, 8]])"
      ]
     },
     "execution_count": 41,
     "metadata": {},
     "output_type": "execute_result"
    }
   ],
   "source": [
    "arr.transpose() #Transpone un arreglo"
   ]
  },
  {
   "cell_type": "code",
   "execution_count": 42,
   "id": "0e5a1ab0",
   "metadata": {},
   "outputs": [
    {
     "data": {
      "text/plain": [
       "array([0, 1, 2, 3, 4, 5, 6, 7, 8])"
      ]
     },
     "execution_count": 42,
     "metadata": {},
     "output_type": "execute_result"
    }
   ],
   "source": [
    "arr.flatten() #Aplana un arreglo"
   ]
  },
  {
   "cell_type": "markdown",
   "id": "97b45b20",
   "metadata": {},
   "source": []
  },
  {
   "cell_type": "markdown",
   "id": "3841fb3f",
   "metadata": {},
   "source": [
    "### Pandas\n",
    "\n",
    "Pandas es una librería de Python que permite trabajar con dataframes. Un dataframe es una estructura de datos que permite guardar muchos elementos en una ́unica variable."
   ]
  },
  {
   "cell_type": "code",
   "execution_count": 2,
   "id": "c492cb29",
   "metadata": {},
   "outputs": [],
   "source": [
    "import pandas as pd"
   ]
  },
  {
   "cell_type": "code",
   "execution_count": 4,
   "id": "a9360864",
   "metadata": {},
   "outputs": [
    {
     "data": {
      "text/html": [
       "<div>\n",
       "<style scoped>\n",
       "    .dataframe tbody tr th:only-of-type {\n",
       "        vertical-align: middle;\n",
       "    }\n",
       "\n",
       "    .dataframe tbody tr th {\n",
       "        vertical-align: top;\n",
       "    }\n",
       "\n",
       "    .dataframe thead th {\n",
       "        text-align: right;\n",
       "    }\n",
       "</style>\n",
       "<table border=\"1\" class=\"dataframe\">\n",
       "  <thead>\n",
       "    <tr style=\"text-align: right;\">\n",
       "      <th></th>\n",
       "      <th>Unnamed: 0</th>\n",
       "      <th>name</th>\n",
       "      <th>age</th>\n",
       "      <th>height(cm)</th>\n",
       "    </tr>\n",
       "  </thead>\n",
       "  <tbody>\n",
       "    <tr>\n",
       "      <th>0</th>\n",
       "      <td>0</td>\n",
       "      <td>Larry</td>\n",
       "      <td>53</td>\n",
       "      <td>168</td>\n",
       "    </tr>\n",
       "    <tr>\n",
       "      <th>1</th>\n",
       "      <td>1</td>\n",
       "      <td>Robert</td>\n",
       "      <td>22</td>\n",
       "      <td>122</td>\n",
       "    </tr>\n",
       "    <tr>\n",
       "      <th>2</th>\n",
       "      <td>2</td>\n",
       "      <td>Geneva</td>\n",
       "      <td>69</td>\n",
       "      <td>133</td>\n",
       "    </tr>\n",
       "    <tr>\n",
       "      <th>3</th>\n",
       "      <td>3</td>\n",
       "      <td>Sandra</td>\n",
       "      <td>67</td>\n",
       "      <td>173</td>\n",
       "    </tr>\n",
       "    <tr>\n",
       "      <th>4</th>\n",
       "      <td>4</td>\n",
       "      <td>Tonya</td>\n",
       "      <td>15</td>\n",
       "      <td>128</td>\n",
       "    </tr>\n",
       "    <tr>\n",
       "      <th>...</th>\n",
       "      <td>...</td>\n",
       "      <td>...</td>\n",
       "      <td>...</td>\n",
       "      <td>...</td>\n",
       "    </tr>\n",
       "    <tr>\n",
       "      <th>995</th>\n",
       "      <td>995</td>\n",
       "      <td>Luis</td>\n",
       "      <td>34</td>\n",
       "      <td>131</td>\n",
       "    </tr>\n",
       "    <tr>\n",
       "      <th>996</th>\n",
       "      <td>996</td>\n",
       "      <td>Jim</td>\n",
       "      <td>10</td>\n",
       "      <td>127</td>\n",
       "    </tr>\n",
       "    <tr>\n",
       "      <th>997</th>\n",
       "      <td>997</td>\n",
       "      <td>Eve</td>\n",
       "      <td>62</td>\n",
       "      <td>158</td>\n",
       "    </tr>\n",
       "    <tr>\n",
       "      <th>998</th>\n",
       "      <td>998</td>\n",
       "      <td>June</td>\n",
       "      <td>30</td>\n",
       "      <td>162</td>\n",
       "    </tr>\n",
       "    <tr>\n",
       "      <th>999</th>\n",
       "      <td>999</td>\n",
       "      <td>Lana</td>\n",
       "      <td>61</td>\n",
       "      <td>172</td>\n",
       "    </tr>\n",
       "  </tbody>\n",
       "</table>\n",
       "<p>1000 rows × 4 columns</p>\n",
       "</div>"
      ],
      "text/plain": [
       "     Unnamed: 0    name  age  height(cm)\n",
       "0             0   Larry   53         168\n",
       "1             1  Robert   22         122\n",
       "2             2  Geneva   69         133\n",
       "3             3  Sandra   67         173\n",
       "4             4   Tonya   15         128\n",
       "..          ...     ...  ...         ...\n",
       "995         995    Luis   34         131\n",
       "996         996     Jim   10         127\n",
       "997         997     Eve   62         158\n",
       "998         998    June   30         162\n",
       "999         999    Lana   61         172\n",
       "\n",
       "[1000 rows x 4 columns]"
      ]
     },
     "execution_count": 4,
     "metadata": {},
     "output_type": "execute_result"
    }
   ],
   "source": [
    "usuarios = pd.read_csv('usuarios.csv') #Lee un archivo csv y lo convierte en un dataframe\n",
    "usuarios"
   ]
  },
  {
   "cell_type": "markdown",
   "id": "b6ad1566",
   "metadata": {},
   "source": [
    "Los dataframes tienen dimensiones, podemos ver la dimensión de un dataframe con el método `shape`."
   ]
  },
  {
   "cell_type": "code",
   "execution_count": 49,
   "id": "c5ccc202",
   "metadata": {},
   "outputs": [
    {
     "data": {
      "text/plain": [
       "(1000, 5)"
      ]
     },
     "execution_count": 49,
     "metadata": {},
     "output_type": "execute_result"
    }
   ],
   "source": [
    "usuarios.shape #Muestra el tamaño del dataframe"
   ]
  },
  {
   "cell_type": "code",
   "execution_count": 5,
   "id": "1473b474",
   "metadata": {},
   "outputs": [
    {
     "data": {
      "text/plain": [
       "0       Larry\n",
       "1      Robert\n",
       "2      Geneva\n",
       "3      Sandra\n",
       "4       Tonya\n",
       "        ...  \n",
       "995      Luis\n",
       "996       Jim\n",
       "997       Eve\n",
       "998      June\n",
       "999      Lana\n",
       "Name: name, Length: 1000, dtype: object"
      ]
     },
     "execution_count": 5,
     "metadata": {},
     "output_type": "execute_result"
    }
   ],
   "source": [
    "usuarios['name'] #La Serie con los nombres de los usuarios"
   ]
  },
  {
   "cell_type": "code",
   "execution_count": 6,
   "id": "5ff024c0",
   "metadata": {},
   "outputs": [
    {
     "data": {
      "text/html": [
       "<div>\n",
       "<style scoped>\n",
       "    .dataframe tbody tr th:only-of-type {\n",
       "        vertical-align: middle;\n",
       "    }\n",
       "\n",
       "    .dataframe tbody tr th {\n",
       "        vertical-align: top;\n",
       "    }\n",
       "\n",
       "    .dataframe thead th {\n",
       "        text-align: right;\n",
       "    }\n",
       "</style>\n",
       "<table border=\"1\" class=\"dataframe\">\n",
       "  <thead>\n",
       "    <tr style=\"text-align: right;\">\n",
       "      <th></th>\n",
       "      <th>Unnamed: 0</th>\n",
       "      <th>name</th>\n",
       "      <th>age</th>\n",
       "      <th>height(cm)</th>\n",
       "    </tr>\n",
       "  </thead>\n",
       "  <tbody>\n",
       "    <tr>\n",
       "      <th>0</th>\n",
       "      <td>0</td>\n",
       "      <td>Larry</td>\n",
       "      <td>53</td>\n",
       "      <td>168</td>\n",
       "    </tr>\n",
       "    <tr>\n",
       "      <th>89</th>\n",
       "      <td>89</td>\n",
       "      <td>Larry</td>\n",
       "      <td>62</td>\n",
       "      <td>154</td>\n",
       "    </tr>\n",
       "    <tr>\n",
       "      <th>709</th>\n",
       "      <td>709</td>\n",
       "      <td>Larry</td>\n",
       "      <td>33</td>\n",
       "      <td>164</td>\n",
       "    </tr>\n",
       "    <tr>\n",
       "      <th>797</th>\n",
       "      <td>797</td>\n",
       "      <td>Larry</td>\n",
       "      <td>50</td>\n",
       "      <td>162</td>\n",
       "    </tr>\n",
       "  </tbody>\n",
       "</table>\n",
       "</div>"
      ],
      "text/plain": [
       "     Unnamed: 0   name  age  height(cm)\n",
       "0             0  Larry   53         168\n",
       "89           89  Larry   62         154\n",
       "709         709  Larry   33         164\n",
       "797         797  Larry   50         162"
      ]
     },
     "execution_count": 6,
     "metadata": {},
     "output_type": "execute_result"
    }
   ],
   "source": [
    "usuarios[usuarios['name'] == 'Larry'] #Muestra los usuarios que tengan el nombre Larry"
   ]
  },
  {
   "cell_type": "code",
   "execution_count": 7,
   "id": "03a00c28",
   "metadata": {},
   "outputs": [
    {
     "data": {
      "text/html": [
       "<div>\n",
       "<style scoped>\n",
       "    .dataframe tbody tr th:only-of-type {\n",
       "        vertical-align: middle;\n",
       "    }\n",
       "\n",
       "    .dataframe tbody tr th {\n",
       "        vertical-align: top;\n",
       "    }\n",
       "\n",
       "    .dataframe thead th {\n",
       "        text-align: right;\n",
       "    }\n",
       "</style>\n",
       "<table border=\"1\" class=\"dataframe\">\n",
       "  <thead>\n",
       "    <tr style=\"text-align: right;\">\n",
       "      <th></th>\n",
       "      <th>Unnamed: 0</th>\n",
       "      <th>name</th>\n",
       "      <th>age</th>\n",
       "      <th>height(cm)</th>\n",
       "    </tr>\n",
       "  </thead>\n",
       "  <tbody>\n",
       "    <tr>\n",
       "      <th>0</th>\n",
       "      <td>0</td>\n",
       "      <td>Larry</td>\n",
       "      <td>53</td>\n",
       "      <td>168</td>\n",
       "    </tr>\n",
       "    <tr>\n",
       "      <th>2</th>\n",
       "      <td>2</td>\n",
       "      <td>Geneva</td>\n",
       "      <td>69</td>\n",
       "      <td>133</td>\n",
       "    </tr>\n",
       "    <tr>\n",
       "      <th>3</th>\n",
       "      <td>3</td>\n",
       "      <td>Sandra</td>\n",
       "      <td>67</td>\n",
       "      <td>173</td>\n",
       "    </tr>\n",
       "    <tr>\n",
       "      <th>5</th>\n",
       "      <td>5</td>\n",
       "      <td>Samuel</td>\n",
       "      <td>32</td>\n",
       "      <td>157</td>\n",
       "    </tr>\n",
       "    <tr>\n",
       "      <th>6</th>\n",
       "      <td>6</td>\n",
       "      <td>Donna</td>\n",
       "      <td>46</td>\n",
       "      <td>184</td>\n",
       "    </tr>\n",
       "    <tr>\n",
       "      <th>...</th>\n",
       "      <td>...</td>\n",
       "      <td>...</td>\n",
       "      <td>...</td>\n",
       "      <td>...</td>\n",
       "    </tr>\n",
       "    <tr>\n",
       "      <th>993</th>\n",
       "      <td>993</td>\n",
       "      <td>Christopher</td>\n",
       "      <td>35</td>\n",
       "      <td>145</td>\n",
       "    </tr>\n",
       "    <tr>\n",
       "      <th>994</th>\n",
       "      <td>994</td>\n",
       "      <td>Melody</td>\n",
       "      <td>41</td>\n",
       "      <td>172</td>\n",
       "    </tr>\n",
       "    <tr>\n",
       "      <th>995</th>\n",
       "      <td>995</td>\n",
       "      <td>Luis</td>\n",
       "      <td>34</td>\n",
       "      <td>131</td>\n",
       "    </tr>\n",
       "    <tr>\n",
       "      <th>997</th>\n",
       "      <td>997</td>\n",
       "      <td>Eve</td>\n",
       "      <td>62</td>\n",
       "      <td>158</td>\n",
       "    </tr>\n",
       "    <tr>\n",
       "      <th>999</th>\n",
       "      <td>999</td>\n",
       "      <td>Lana</td>\n",
       "      <td>61</td>\n",
       "      <td>172</td>\n",
       "    </tr>\n",
       "  </tbody>\n",
       "</table>\n",
       "<p>707 rows × 4 columns</p>\n",
       "</div>"
      ],
      "text/plain": [
       "     Unnamed: 0         name  age  height(cm)\n",
       "0             0        Larry   53         168\n",
       "2             2       Geneva   69         133\n",
       "3             3       Sandra   67         173\n",
       "5             5       Samuel   32         157\n",
       "6             6        Donna   46         184\n",
       "..          ...          ...  ...         ...\n",
       "993         993  Christopher   35         145\n",
       "994         994       Melody   41         172\n",
       "995         995         Luis   34         131\n",
       "997         997          Eve   62         158\n",
       "999         999         Lana   61         172\n",
       "\n",
       "[707 rows x 4 columns]"
      ]
     },
     "execution_count": 7,
     "metadata": {},
     "output_type": "execute_result"
    }
   ],
   "source": [
    "usuarios[usuarios['age'] > 30] #Muestra los usuarios mayores de 30 años"
   ]
  },
  {
   "cell_type": "code",
   "execution_count": 10,
   "id": "f1dff05d",
   "metadata": {},
   "outputs": [
    {
     "data": {
      "text/plain": [
       "44.723"
      ]
     },
     "execution_count": 10,
     "metadata": {},
     "output_type": "execute_result"
    }
   ],
   "source": [
    "np.mean(usuarios['age']) #Muestra la media de los edades"
   ]
  },
  {
   "cell_type": "code",
   "execution_count": 11,
   "id": "cf4e127f",
   "metadata": {},
   "outputs": [
    {
     "data": {
      "text/plain": [
       "187"
      ]
     },
     "execution_count": 11,
     "metadata": {},
     "output_type": "execute_result"
    }
   ],
   "source": [
    "np.max(usuarios['height(cm)']) #Muestra el mayor valor de la altura"
   ]
  },
  {
   "cell_type": "markdown",
   "id": "a936c204",
   "metadata": {},
   "source": [
    "### Matplotlib\n",
    "\n",
    "Matplotlib es una librería de Python que permite trabajar con gráficos."
   ]
  },
  {
   "cell_type": "code",
   "execution_count": 13,
   "id": "e01637e3",
   "metadata": {},
   "outputs": [],
   "source": [
    "import matplotlib.pyplot as plt"
   ]
  },
  {
   "cell_type": "code",
   "execution_count": 19,
   "id": "a848c74f",
   "metadata": {},
   "outputs": [
    {
     "data": {
      "text/plain": [
       "Text(0.5, 1.0, 'Altura por edad')"
      ]
     },
     "execution_count": 19,
     "metadata": {},
     "output_type": "execute_result"
    },
    {
     "data": {
      "image/png": "[encoded data removed]",
      "text/plain": [
       "<Figure size 640x480 with 1 Axes>"
      ]
     },
     "metadata": {},
     "output_type": "display_data"
    }
   ],
   "source": [
    "plt.plot(usuarios['age'], usuarios['height(cm)'], '.') # Grafica las alturas en función de las edades\n",
    "plt.title('Altura por edad') #Título del gráfico"
   ]
  },
  {
   "cell_type": "code",
   "execution_count": 37,
   "id": "2dc18693",
   "metadata": {},
   "outputs": [
    {
     "name": "stdout",
     "output_type": "stream",
     "text": [
      "0    127\n",
      "1    157\n",
      "2    150\n",
      "3    146\n",
      "4    149\n",
      "5    132\n",
      "6    139\n",
      "dtype: int64\n"
     ]
    }
   ],
   "source": [
    "setentas    = len(usuarios[usuarios['age'] >= 70])\n",
    "sesentas    = len(usuarios[usuarios['age'] >= 60]) - setentas\n",
    "cincuentas  = len(usuarios[usuarios['age'] >= 50]) - (sesentas + setentas)\n",
    "cuarentas   = len(usuarios[usuarios['age'] >= 40]) - (cincuentas + sesentas + setentas)\n",
    "treintas    = len(usuarios[usuarios['age'] >= 30]) - (cuarentas + cincuentas + sesentas + setentas)\n",
    "veintes     = len(usuarios[usuarios['age'] >= 20]) - (treintas + cuarentas + cincuentas + sesentas + setentas)\n",
    "diez        = len(usuarios[usuarios['age'] >= 10]) - (veintes + treintas + cuarentas + cincuentas + sesentas + setentas)\n",
    "\n",
    "cant_edades = pd.Series([setentas, sesentas, cincuentas, cuarentas, treintas, veintes, diez])\n",
    "print(cant_edades)"
   ]
  },
  {
   "cell_type": "code",
   "execution_count": 39,
   "id": "a91bac39",
   "metadata": {},
   "outputs": [
    {
     "data": {
      "image/png": "[encoded data removed]",
      "text/plain": [
       "<Figure size 640x480 with 1 Axes>"
      ]
     },
     "metadata": {},
     "output_type": "display_data"
    }
   ],
   "source": [
    "labels = ['70+', '60-70', '50-60', '40-50', '30-40', '20-30', '10-20']\n",
    "\n",
    "fig1, ax1 = plt.subplots()\n",
    "ax1.pie(cant_edades, labels=labels, autopct='%1.1f%%', startangle=90)\n",
    "ax1.axis('equal')  # Equal aspect ratio ensures that pie is drawn as a circle.\n",
    "\n",
    "plt.show()"
   ]
  },
  {
   "cell_type": "code",
   "execution_count": null,
   "id": "fbc6db74",
   "metadata": {},
   "outputs": [],
   "source": []
  }
 ],
 "metadata": {
  "kernelspec": {
   "display_name": "Python 3.9.4 64-bit",
   "language": "python",
   "name": "python3"
  },
  "language_info": {
   "codemirror_mode": {
    "name": "ipython",
    "version": 3
   },
   "file_extension": ".py",
   "mimetype": "text/x-python",
   "name": "python",
   "nbconvert_exporter": "python",
   "pygments_lexer": "ipython3",
   "version": "3.9.4"
  },
  "vscode": {
   "interpreter": {
    "hash": "7812ea015bdcee6f23a998adcdd2ef97c151c0c241b7b7070987d9313e41299d"
   }
  }
 },
 "nbformat": 4,
 "nbformat_minor": 5
}
